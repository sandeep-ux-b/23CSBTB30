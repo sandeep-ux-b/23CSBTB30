{
  "nbformat": 4,
  "nbformat_minor": 0,
  "metadata": {
    "colab": {
      "provenance": [],
      "authorship_tag": "ABX9TyOMn5BuRf/zOUoZ6pZkp5XK",
      "include_colab_link": true
    },
    "kernelspec": {
      "name": "python3",
      "display_name": "Python 3"
    },
    "language_info": {
      "name": "python"
    }
  },
  "cells": [
    {
      "cell_type": "markdown",
      "metadata": {
        "id": "view-in-github",
        "colab_type": "text"
      },
      "source": [
        "<a href=\"https://colab.research.google.com/github/sandeep-ux-b/23CSBTB30/blob/main/Lab07.ipynb\" target=\"_parent\"><img src=\"https://colab.research.google.com/assets/colab-badge.svg\" alt=\"Open In Colab\"/></a>"
      ]
    },
    {
      "cell_type": "code",
      "execution_count": null,
      "metadata": {
        "id": "6b4rGSMtir0h"
      },
      "outputs": [],
      "source": [
        "import pandas as pd\n",
        "import numpy as np\n",
        "import matplotlib.pyplot as plt\n",
        "import seaborn as sns\n",
        "%matplotlib inline\n",
        "from sklearn.datasets import load_breast_cancer\n",
        "cancer = load_breast_cancer()\n",
        "cancer.keys()\n",
        "print(cancer['feature_names'])\n",
        "cancer['feature_names']\n",
        "df = pd.DataFrame(cancer['data'],\n",
        "                  columns=cancer['feature_names'])\n",
        "df.info()\n",
        "df.columns\n",
        "df.describe()\n",
        "# Sum of the count of null objects in all\n",
        "# columns of data frame\n",
        "np.sum(pd.isnull(df).sum())\n",
        "cancer['target'].shape ## where 1- Benign, 0-Malignent\n",
        "df['Cancer'] = pd.DataFrame(cancer['target'])\n",
        "df.head()\n",
        "l =len(df.columns)\n",
        "for i in range(l):\n",
        "    #sns.set_style('whitegrid')\n",
        "        sns.countplot(x='Cancer',hue=df.columns[i],data=df,\n",
        "               palette='RdBu_r',) # Indented this line\n",
        "l=list(df.columns[0:10])\n",
        "for i in range(len(l)-1):\n",
        "    sns.boxplot(x='Cancer',hue=l[i], data=df,\n",
        "                    palette='winter')\n",
        "    plt.title(f\"Box Plots of {l[i]} Cancer Features\")\n",
        "    plt.figure()\n",
        "f,(ax1, ax2) = plt.subplots(1, 2, sharey=True,figsize=(12,6))\n",
        "ax1.scatter(df['mean area'],df['Cancer'])\n",
        "ax1.set_title(\"Cancer Feature mean area\", fontsize=15)\n",
        "ax2.scatter(df['mean smoothness'],df['Cancer'])\n",
        "ax2.set_title(\"Cancer Feature mean smoothness\",fontsize=15)\n",
        "# Define a dataframe with only features\n",
        "df_feat = df.drop('Cancer',axis=1)\n",
        "#df_feat.head()\n",
        "df_feat.shape\n",
        "# Define a dataframe with only target results for\n",
        "# cancer detection\n",
        "df_target = df['Cancer']\n",
        "#df_target.head()\n",
        "df_target.shape\n",
        "from sklearn.model_selection import train_test_split\n",
        "X_train, X_test, y_train, y_test = train_test_split(df_feat, df_target,test_size=0.20,random_state=101)\n",
        "df_feat.shape, X_train.shape, X_test.shape, y_train.shape, y_test.shape\n",
        "from sklearn.svm import SVC\n",
        "model = SVC()\n",
        "model.fit(X_train,y_train)\n",
        "predictions = model.predict(X_test)\n",
        "from sklearn.metrics import classification_report,confusion_matrix, accuracy_score\n",
        "print(confusion_matrix(y_test,predictions))\n",
        "accuracy_score(y_test, predictions)\n",
        "print(classification_report(y_test,predictions))\n",
        "print(\"Test Data Misclassification error rate:\", round(np.mean(predictions!=y_test),3))\n",
        "print(\"Test Data Misclassification error rate:\", round(np.mean(predictions!=y_test),3))\n",
        "# Removed extra indentation from this line\n",
        "train_pred = model.predict(X_train)\n",
        "print(\"Train Data Misclassification error rate:\", round(np.mean(train_pred!=y_train),3))\n",
        "# Removed extra indentation and aligned with other print statements\n",
        "print(f\"Accuracy of train data:{accuracy_score(y_train, train_pred)}\")\n",
        "# Removed extra indentation and aligned with other print statements\n",
        "print(f\"Accuracy of test data:{accuracy_score(y_test, predictions)}\")\n",
        "print(\"Test Data Misclassification error rate: 0.053\")\n",
        "print(\"Train Data Misclassification error rate: 0.09\")\n",
        "print(\"Accuracy of train data:0.9098901098901099\")\n",
        "print(\"Accuracy of test data:0.9473684210526315\")\n",
        "param_grid = {'C': [0.1,1, 10, 100, 1000],\n",
        "              'gamma': [1,0.1,0.01,0.001,0.0001], 'kernel': ['rbf']}\n",
        "from sklearn.model_selection import GridSearchCV\n",
        "grid = GridSearchCV(SVC(),param_grid,refit=True,verbose=1)\n",
        "# May take awhile!\n",
        "grid.fit(X_train,y_train)\n",
        "grid.best_params_\n",
        "grid.best_estimator_\n",
        "grid_predictions = grid.predict(X_test)\n",
        "print(confusion_matrix(y_test,grid_predictions))\n",
        "print(classification_report(y_test,grid_predictions))\n",
        "param_grid = {'C': [50,75,100,125,150], 'gamma': [1e-2,1e-3,1e-4,1e-5,1e-6], 'kernel': ['rbf']}\n",
        "grid = GridSearchCV(SVC(tol=1e-5),param_grid,refit=True,verbose=1)\n",
        "grid.fit(X_train,y_train)\n",
        "grid.best_estimator_\n",
        "grid_predictions = grid.predict(X_test)\n",
        "print(confusion_matrix(y_test,grid_predictions))"
      ]
    }
  ]
}