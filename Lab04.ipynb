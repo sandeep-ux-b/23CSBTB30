{
  "nbformat": 4,
  "nbformat_minor": 0,
  "metadata": {
    "colab": {
      "provenance": [],
      "authorship_tag": "ABX9TyONaRJOjPLI+pJpye2On5TJ",
      "include_colab_link": true
    },
    "kernelspec": {
      "name": "python3",
      "display_name": "Python 3"
    },
    "language_info": {
      "name": "python"
    }
  },
  "cells": [
    {
      "cell_type": "markdown",
      "metadata": {
        "id": "view-in-github",
        "colab_type": "text"
      },
      "source": [
        "<a href=\"https://colab.research.google.com/github/sandeep-ux-b/23CSBTB30/blob/main/Lab04.ipynb\" target=\"_parent\"><img src=\"https://colab.research.google.com/assets/colab-badge.svg\" alt=\"Open In Colab\"/></a>"
      ]
    },
    {
      "cell_type": "code",
      "execution_count": null,
      "metadata": {
        "id": "xDfkLwHAeN-R"
      },
      "outputs": [],
      "source": [
        "\n",
        "import numpy as np\n",
        "import pandas as pd\n",
        "import matplotlib.pyplot as plt\n",
        "import seaborn as sns\n",
        "%matplotlib inline\n",
        "df = pd.read_csv(\"/content/sample_data/california_housing_train.csv\")\n",
        "df.head()\n",
        "df.describe(percentiles=[0.1,0.25,0.5,0.75,0.9])\n",
        "df.columns\n",
        "sns.pairplot(df)\n",
        "df['median_house_value'].plot.hist(bins=25,figsize=(8,4))\n",
        "df['median_house_value'].plot.density()\n",
        "df.corr()\n",
        "plt.figure(figsize=(10,7))\n",
        "sns.heatmap(df.corr(),annot=True,linewidths=2)\n",
        "## Y = MX +C where Y is dependent, X is independent features\n",
        "## M is slope, C is intercept\n",
        "l_column = list(df.columns) # Making a list out of column names\n",
        "len_feature = len(l_column) # Length of column vector list\n",
        "l_column, len_feature\n",
        "X = df[l_column[2:len_feature-1]]\n",
        "y = df[l_column[len_feature-1]]\n",
        "print(\"Feature set size:\",X.shape)\n",
        "print(\"Variable set size:\",y.shape)\n",
        "X.head()\n",
        "y.head()\n",
        "from sklearn.model_selection import train_test_split\n",
        "X_train, X_test, y_train, y_test = train_test_split(X, y,\n",
        "                            test_size=0.2, random_state=123)\n",
        "y_train.shape, y_test.shape, X_train.shape, X_test.shape\n",
        "print(\"Training feature set size:\",X_train.shape)\n",
        "print(\"Test feature set size:\",X_test.shape)\n",
        "print(\"Training variable set size:\",y_train.shape)\n",
        "print(\"Test variable set size:\",y_test.shape)\n",
        "from sklearn.linear_model import LinearRegression\n",
        "from sklearn import metrics\n",
        "lm = LinearRegression() # Creating a Linear Regression object 'lm'\n",
        "lm.fit(X_train,y_train) # Fit the linear model on to the 'lm' object itself i.e. no need to set this to another variable\n",
        "print(\"The intercept term of the linear model:\", lm.intercept_)\n",
        "print(\"The coefficients of the linear model:\", lm.coef_)\n",
        "#idict = {'Coefficients':lm.intercept_}\n",
        "#idf = pd.DataFrame(data=idict,index=['Intercept'])\n",
        "cdf = pd.DataFrame(data=lm.coef_, index=X_train.columns, columns=[\"Coefficients\"])\n",
        "#cdf=pd.concat([idf,cdf], axis=0)\n",
        "cdf"
      ]
    }
  ]
}