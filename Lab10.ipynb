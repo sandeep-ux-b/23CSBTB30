{
  "nbformat": 4,
  "nbformat_minor": 0,
  "metadata": {
    "colab": {
      "provenance": [],
      "authorship_tag": "ABX9TyNgfmUuHeyE+q2YwmFkk0JK",
      "include_colab_link": true
    },
    "kernelspec": {
      "name": "python3",
      "display_name": "Python 3"
    },
    "language_info": {
      "name": "python"
    }
  },
  "cells": [
    {
      "cell_type": "markdown",
      "metadata": {
        "id": "view-in-github",
        "colab_type": "text"
      },
      "source": [
        "<a href=\"https://colab.research.google.com/github/sandeep-ux-b/23CSBTB30/blob/main/Lab10.ipynb\" target=\"_parent\"><img src=\"https://colab.research.google.com/assets/colab-badge.svg\" alt=\"Open In Colab\"/></a>"
      ]
    },
    {
      "cell_type": "code",
      "execution_count": null,
      "metadata": {
        "id": "c1jyjtPnjzNF"
      },
      "outputs": [],
      "source": [
        "!pip install ucimlrepo\n",
        "from ucimlrepo import fetch_ucirepo\n",
        "\n",
        "# fetch dataset\n",
        "power_com = fetch_ucirepo(id=235)\n",
        "# data (as pandas dataframes)\n",
        "X = power_com.data.features\n",
        "y = power_com.data.targets\n",
        "import numpy as np\n",
        "import pandas as pd\n",
        "import matplotlib.pyplot as plt\n",
        "import seaborn as sns\n",
        "%matplotlib inline\n",
        "print(f\"Top 5 Elecricity Consumption features:\\n{power_com.data.features.sort_values(by='Date', ascending=False).head()}\")\n",
        "print(f\"Top 5 Voltage Consumption features:\\n{power_com.data.features.sort_values(by='Date', ascending=True).tail()}\")\n",
        "power_com_df = pd.DataFrame(power_com.data.features)\n",
        "power_com_df.hist(bins=50, figsize=(20,15))\n",
        "plt.show()\n",
        "power_com_df.columns\n",
        "print(f\"Max and Min Voltage Comsumption\\n{np.max(power_com_df.Voltage.value_counts())}\\n{np.min(power_com_df.Voltage.value_counts())}\")\n",
        "\n",
        "import sklearn\n",
        "from sklearn.model_selection import train_test_split\n",
        "\n",
        "X = power_com_df.drop(['Date','Time'], axis=1)\n",
        "y = power_com_df.Voltage\n",
        "\n",
        "X_train, X_test, y_train, y_test = train_test_split(X, y, test_size=0.3, random_state=101)\n",
        "\n",
        "\n",
        "X_train.shape, X_test.shape, y_train.shape, y_test.shape\n",
        "X_train.head()\n",
        "from sklearn.cluster import KMeans\n",
        "kmeans = KMeans(n_clusters=3)\n",
        "kmeans.fit(float(X_train))"
      ]
    }
  ]
}